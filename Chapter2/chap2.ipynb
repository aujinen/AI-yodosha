{
  "cells": [
    {
      "cell_type": "markdown",
      "metadata": {},
      "source": [
        "# Local environment version\n",
        "The parts specific to the Google Colab version are commented out with #=#.<br>\n",
        "The parts added in the local environment have #++ at the end of the line.<br>\n",
        "original: https://github.com/TMDU-AI/AI-yodosha<br>\n",
        "modified by H.Nishiyama, Niigata-Univ.<br>"
      ]
    },
    {
      "cell_type": "markdown",
      "metadata": {
        "id": "ovOnBQSxZBRs"
      },
      "source": [
        "# **2章　機械学習のしくみを理解しよう**"
      ]
    },
    {
      "cell_type": "markdown",
      "metadata": {
        "id": "_lyLc0nwjic8"
      },
      "source": [
        "# 2-3　線形回帰を実践してみよう"
      ]
    },
    {
      "cell_type": "markdown",
      "metadata": {
        "id": "Zg2mU8ThjJdS"
      },
      "source": [
        " **STEP0　事前準備**"
      ]
    },
    {
      "cell_type": "markdown",
      "metadata": {
        "id": "Ebcj6xxEZYx3"
      },
      "source": [
        "コード 2-3-1　利用するライブラリをインポートする"
      ]
    },
    {
      "cell_type": "code",
      "execution_count": null,
      "metadata": {
        "id": "s07U0X_iRXJY"
      },
      "outputs": [],
      "source": [
        "#!pip install japanize-matplotlib\n",
        "import numpy as np\n",
        "import pandas as pd\n",
        "import matplotlib.pyplot as plt\n",
        "import japanize_matplotlib"
      ]
    },
    {
      "cell_type": "markdown",
      "metadata": {
        "id": "1GXkW--coSAq"
      },
      "source": [
        "**STEP1　データの用意**"
      ]
    },
    {
      "cell_type": "markdown",
      "metadata": {
        "id": "YeeKhcY8Zl-P"
      },
      "source": [
        "コード2-3-2　糖尿病のデータセットを読み込む"
      ]
    },
    {
      "cell_type": "code",
      "execution_count": null,
      "metadata": {
        "id": "v16-LAlmRwvb"
      },
      "outputs": [],
      "source": [
        "from sklearn.datasets import load_diabetes\n",
        "dm = load_diabetes(as_frame=True, scaled=False)"
      ]
    },
    {
      "cell_type": "markdown",
      "metadata": {
        "id": "7WwK2DxtZupo"
      },
      "source": [
        "コード2-3-3　糖尿病のデータセットの内容を確認（変数dmの型の確認）"
      ]
    },
    {
      "cell_type": "code",
      "execution_count": null,
      "metadata": {
        "id": "bY5dl6mqfZfR"
      },
      "outputs": [],
      "source": [
        "type(dm)"
      ]
    },
    {
      "cell_type": "markdown",
      "metadata": {
        "id": "Aul6_gl5fYfM"
      },
      "source": [
        "コード2-3-4　糖尿病のデータセットの内容を確認（dmの出力）"
      ]
    },
    {
      "cell_type": "code",
      "execution_count": null,
      "metadata": {
        "id": "A6MPV1Rifixj"
      },
      "outputs": [],
      "source": [
        "dm"
      ]
    },
    {
      "cell_type": "markdown",
      "metadata": {
        "id": "aw26oAMPfnN-"
      },
      "source": [
        "コード2-3-5　糖尿病のデータセットの内容を確認（dmのキーDESCRの出力）"
      ]
    },
    {
      "cell_type": "code",
      "execution_count": null,
      "metadata": {
        "id": "RbpqqyZ2rz7C"
      },
      "outputs": [],
      "source": [
        "print(dm.DESCR)"
      ]
    },
    {
      "cell_type": "markdown",
      "metadata": {
        "id": "Z5-tX3cBZ0xH"
      },
      "source": [
        "コード2-3-6　y_dmに正解値をデータフレームとして格納"
      ]
    },
    {
      "cell_type": "code",
      "execution_count": null,
      "metadata": {
        "id": "29OL6IBzR0Yg"
      },
      "outputs": [],
      "source": [
        "y_dm = dm.target\n",
        "y_dm.head()"
      ]
    },
    {
      "cell_type": "markdown",
      "metadata": {
        "id": "h1-B9d0Nf2Ba"
      },
      "source": [
        "コード2-3-7　y_dmの配列の形状の確認"
      ]
    },
    {
      "cell_type": "code",
      "execution_count": null,
      "metadata": {
        "id": "Y1JajRpuf1qF"
      },
      "outputs": [],
      "source": [
        "y_dm.shape"
      ]
    },
    {
      "cell_type": "markdown",
      "metadata": {
        "id": "L4V0lHaPZ7f_"
      },
      "source": [
        "コード2-3-8　y_dmのデータ型の確認"
      ]
    },
    {
      "cell_type": "code",
      "execution_count": null,
      "metadata": {
        "id": "yDmHZTNIf9cL"
      },
      "outputs": [],
      "source": [
        "type(y_dm)"
      ]
    },
    {
      "cell_type": "markdown",
      "metadata": {
        "id": "WhuucHn_gAeM"
      },
      "source": [
        "コード2-3-9　y_dmの記述統計量を確認"
      ]
    },
    {
      "cell_type": "code",
      "execution_count": null,
      "metadata": {
        "id": "tJt-YZ2uZ_X1"
      },
      "outputs": [],
      "source": [
        "y_dm.describe()"
      ]
    },
    {
      "cell_type": "markdown",
      "metadata": {
        "id": "igzW46X-aDbR"
      },
      "source": [
        "コード2-3-10　x_dmに特徴量をデータフレームとして格納"
      ]
    },
    {
      "cell_type": "code",
      "execution_count": null,
      "metadata": {
        "id": "sy6CUzqdR9FG"
      },
      "outputs": [],
      "source": [
        "x_dm = dm.data\n",
        "x_dm.head()"
      ]
    },
    {
      "cell_type": "markdown",
      "metadata": {
        "id": "kIcq1E_MaI5-"
      },
      "source": [
        "コード2-3-11　x_dmの配列の形状の確認\n"
      ]
    },
    {
      "cell_type": "code",
      "execution_count": null,
      "metadata": {
        "id": "nv8-vI_tiSLV"
      },
      "outputs": [],
      "source": [
        "x_dm.shape"
      ]
    },
    {
      "cell_type": "markdown",
      "metadata": {
        "id": "N4EByy-niUZB"
      },
      "source": [
        "コード2-3-12　x_dmのデータ型の確認"
      ]
    },
    {
      "cell_type": "code",
      "execution_count": null,
      "metadata": {
        "id": "xuhsNB1miWVP"
      },
      "outputs": [],
      "source": [
        "type(x_dm)"
      ]
    },
    {
      "cell_type": "markdown",
      "metadata": {
        "id": "oWbOcInfib-w"
      },
      "source": [
        "コード2-3-13　x_dmの記述統計量を確認"
      ]
    },
    {
      "cell_type": "code",
      "execution_count": null,
      "metadata": {
        "id": "LIYBuUqzifxu"
      },
      "outputs": [],
      "source": [
        "x_dm.describe()"
      ]
    },
    {
      "cell_type": "markdown",
      "metadata": {
        "id": "cvKPsXSmiiw4"
      },
      "source": [
        "コード2-3-14　x_dmの特徴量のうち，bmiだけをx_bmiに格納"
      ]
    },
    {
      "cell_type": "code",
      "execution_count": null,
      "metadata": {
        "id": "VZMkWPrrSCZp"
      },
      "outputs": [],
      "source": [
        "x_bmi = x_dm[['bmi']]\n",
        "x_bmi"
      ]
    },
    {
      "cell_type": "markdown",
      "metadata": {
        "id": "CAaAEMqBaMZE"
      },
      "source": [
        "コード2-3-15　x_bmiの配列の形状の確認"
      ]
    },
    {
      "cell_type": "code",
      "execution_count": null,
      "metadata": {
        "id": "ZCyiIyLhirND"
      },
      "outputs": [],
      "source": [
        "x_bmi.shape"
      ]
    },
    {
      "cell_type": "markdown",
      "metadata": {
        "id": "0979CazditcT"
      },
      "source": [
        "コード2-3-16　x_bmiのデータ型の確認"
      ]
    },
    {
      "cell_type": "code",
      "execution_count": null,
      "metadata": {
        "id": "sli0lT0livGj"
      },
      "outputs": [],
      "source": [
        "type(x_bmi)"
      ]
    },
    {
      "cell_type": "markdown",
      "metadata": {
        "id": "liHg8mWNixyJ"
      },
      "source": [
        "コード2-3-17　x_dmの特徴量のうち，bmiだけをx_bmi1に格納（一重角括弧にした場合）"
      ]
    },
    {
      "cell_type": "code",
      "execution_count": null,
      "metadata": {
        "id": "MIEj90iCi0Vs"
      },
      "outputs": [],
      "source": [
        "x_bmi1 = x_dm['bmi']\n",
        "print(x_bmi1.shape)\n",
        "print(type(x_bmi1))"
      ]
    },
    {
      "cell_type": "markdown",
      "metadata": {
        "id": "C5LueKSPvTYv"
      },
      "source": [
        "**STEP2　学習モデルの選択**"
      ]
    },
    {
      "cell_type": "markdown",
      "metadata": {
        "id": "3la2Q-6LjAAK"
      },
      "source": [
        "コード2-3-18　線形回帰を学習モデルとして選択する"
      ]
    },
    {
      "cell_type": "code",
      "execution_count": null,
      "metadata": {
        "id": "w61zleiZSHnk"
      },
      "outputs": [],
      "source": [
        "from sklearn.linear_model import LinearRegression\n",
        "model_bmi = LinearRegression()"
      ]
    },
    {
      "cell_type": "markdown",
      "metadata": {
        "id": "7nd74VUYwR0R"
      },
      "source": [
        "**STEP3　データを入れて学習**"
      ]
    },
    {
      "cell_type": "markdown",
      "metadata": {
        "id": "PHMANwaKaPpl"
      },
      "source": [
        "コード2-3-19　線形回帰にデータを指定して学習させる"
      ]
    },
    {
      "cell_type": "code",
      "execution_count": null,
      "metadata": {
        "id": "c4omWmgLaRLC"
      },
      "outputs": [],
      "source": [
        "model_bmi.fit(x_bmi, y_dm)"
      ]
    },
    {
      "cell_type": "markdown",
      "metadata": {
        "id": "eUOARn_SwvGc"
      },
      "source": [
        "**STEP4　傾き（偏回帰係数）と切片（定数項）を推定**"
      ]
    },
    {
      "cell_type": "markdown",
      "metadata": {
        "id": "zbZtjGsuaTS3"
      },
      "source": [
        "コード2-3-20　学習したモデルの偏回帰係数と定数項を出力する"
      ]
    },
    {
      "cell_type": "code",
      "execution_count": null,
      "metadata": {
        "id": "6o5zym0yaV-W"
      },
      "outputs": [],
      "source": [
        "print(model_bmi.coef_)\n",
        "print(model_bmi.intercept_)"
      ]
    },
    {
      "cell_type": "markdown",
      "metadata": {
        "id": "eDzwgUEVxY1s"
      },
      "source": [
        "**STEP5　未知の特徴量xで予測**"
      ]
    },
    {
      "cell_type": "markdown",
      "metadata": {
        "id": "lDvgUnHCahi0"
      },
      "source": [
        "コード2-3-21　BMIが20の値をデータフレームとして格納"
      ]
    },
    {
      "cell_type": "code",
      "execution_count": null,
      "metadata": {
        "id": "50hkiiWxa3DA"
      },
      "outputs": [],
      "source": [
        "pre = pd.DataFrame([[20]], columns=['bmi'])\n",
        "print(pre)\n",
        "print(pre.shape)\n",
        "print(type(pre))"
      ]
    },
    {
      "cell_type": "markdown",
      "metadata": {
        "id": "zRLiKukCjtC4"
      },
      "source": [
        "コード2-3-22　BMIが20の場合の糖尿病進行度を予測"
      ]
    },
    {
      "cell_type": "code",
      "execution_count": null,
      "metadata": {
        "id": "z_b6WjH1jkxs"
      },
      "outputs": [],
      "source": [
        "print(model_bmi.predict(pre))"
      ]
    },
    {
      "cell_type": "markdown",
      "metadata": {
        "id": "cyUrC37jbzLx"
      },
      "source": [
        "コード2-3-23　線形回帰線を描出"
      ]
    },
    {
      "cell_type": "code",
      "execution_count": null,
      "metadata": {
        "id": "LDYIPEjzSm70"
      },
      "outputs": [],
      "source": [
        "plt.scatter(x_bmi, y_dm, color='black')\n",
        "plt.plot(x_bmi, model_bmi.predict(x_bmi))\n",
        "plt.show()"
      ]
    },
    {
      "cell_type": "markdown",
      "metadata": {
        "id": "YuKmT3TJkgbn"
      },
      "source": [
        "コード2-3-24　線形回帰線を描出（タイトルや軸名をつける）"
      ]
    },
    {
      "cell_type": "code",
      "execution_count": null,
      "metadata": {
        "id": "QYjfhCvZSqAZ"
      },
      "outputs": [],
      "source": [
        "plt.figure()\n",
        "plt.title('BMIと1年後の糖尿病の進行度')\n",
        "plt.xlabel('BMI')\n",
        "plt.ylabel('糖尿病進行度')\n",
        "plt.scatter(x_bmi, y_dm, color='black')\n",
        "plt.plot(x_bmi, model_bmi.predict(x_bmi))\n",
        "plt.show()"
      ]
    },
    {
      "cell_type": "markdown",
      "metadata": {
        "id": "_f-Sh9BSzTpQ"
      },
      "source": [
        "**STEP6　モデルの評価**"
      ]
    },
    {
      "cell_type": "markdown",
      "metadata": {
        "id": "bnE-W2VnkqOB"
      },
      "source": [
        "コード2-3-25　モデルの性能評価を行う"
      ]
    },
    {
      "cell_type": "code",
      "execution_count": null,
      "metadata": {
        "id": "sn9k31PaW1E_"
      },
      "outputs": [],
      "source": [
        "print(model_bmi.score(x_bmi, y_dm))"
      ]
    },
    {
      "cell_type": "markdown",
      "metadata": {
        "id": "C3kyR3fdb1-k"
      },
      "source": [
        "コード2-3-26　10個の特徴量での線形回帰（学習モデルの選択と学習）"
      ]
    },
    {
      "cell_type": "code",
      "execution_count": null,
      "metadata": {
        "id": "zpc3waa0Vgqp"
      },
      "outputs": [],
      "source": [
        "model_dm10 = LinearRegression()\n",
        "model_dm10.fit(x_dm, y_dm)"
      ]
    },
    {
      "cell_type": "markdown",
      "metadata": {
        "id": "VJp6MDUXcCt_"
      },
      "source": [
        "コード2-3-27　10個の特徴量での線形回帰（偏回帰係数と定数項の出力）"
      ]
    },
    {
      "cell_type": "code",
      "execution_count": null,
      "metadata": {
        "id": "ZhtPzYlUV14f"
      },
      "outputs": [],
      "source": [
        "print(model_dm10.coef_)\n",
        "print(model_dm10.intercept_)"
      ]
    },
    {
      "cell_type": "markdown",
      "metadata": {
        "id": "UJPOhuQncExc"
      },
      "source": [
        "コード2-3-28　10個の特徴量での線形回帰（モデルの性能評価）"
      ]
    },
    {
      "cell_type": "code",
      "execution_count": null,
      "metadata": {
        "id": "zlHk2wIxW7R5"
      },
      "outputs": [],
      "source": [
        "print(model_dm10.score(x_dm, y_dm))"
      ]
    },
    {
      "cell_type": "markdown",
      "metadata": {
        "id": "ftRxDOR8lC8E"
      },
      "source": [
        "# 2-4　学習用データと検証用データの分割"
      ]
    },
    {
      "cell_type": "markdown",
      "metadata": {
        "id": "BJln5gZwcX0r"
      },
      "source": [
        "コード2-4-1　学習用データと検証用データに分割"
      ]
    },
    {
      "cell_type": "code",
      "execution_count": null,
      "metadata": {
        "id": "dIUGPee4Wbnb"
      },
      "outputs": [],
      "source": [
        "from sklearn.model_selection import train_test_split\n",
        "x_train, x_test, y_train, y_test = train_test_split(\n",
        "    x_dm, y_dm, test_size=0.3, random_state=0)"
      ]
    },
    {
      "cell_type": "markdown",
      "metadata": {
        "id": "3jN2q-4lcaMG"
      },
      "source": [
        "コード2-4-2　学習用データ（x_trainとy_train）を用いてmodel_dmで学習させる"
      ]
    },
    {
      "cell_type": "code",
      "execution_count": null,
      "metadata": {
        "id": "24HOJav8W0bL"
      },
      "outputs": [],
      "source": [
        "from sklearn.linear_model import LinearRegression\n",
        "model_dm = LinearRegression()\n",
        "model_dm.fit(x_train, y_train)"
      ]
    },
    {
      "cell_type": "markdown",
      "metadata": {
        "id": "JdVev2r-ciRN"
      },
      "source": [
        "コード2-4-3　検証用データ（x_test）を用いて，学習済みモデルで予測する"
      ]
    },
    {
      "cell_type": "code",
      "execution_count": null,
      "metadata": {
        "id": "dR_OFnYFXXV5"
      },
      "outputs": [],
      "source": [
        "print(model_dm.predict(x_test)) # x_testから予測した予測値yを出力\n",
        "print(np.array(y_test))         # 実際の正解値y_testを出力"
      ]
    },
    {
      "cell_type": "markdown",
      "metadata": {
        "id": "JYPOicrxldK1"
      },
      "source": [
        "コード2-4-4　ホールドアウト法で学習用データと検証用データに分けた場合のモデルの性能評価"
      ]
    },
    {
      "cell_type": "code",
      "execution_count": null,
      "metadata": {
        "id": "zmOi8pBpSCQT"
      },
      "outputs": [],
      "source": [
        "print(model_dm.score(x_test, y_test))"
      ]
    },
    {
      "cell_type": "markdown",
      "metadata": {
        "id": "_z8dTf7wFlJB"
      },
      "source": [
        "# 2-5　ロジスティック回帰を実践してみよう"
      ]
    },
    {
      "cell_type": "markdown",
      "metadata": {
        "id": "A_Ji_DM73rKs"
      },
      "source": [
        "**STEP0　事前準備**"
      ]
    },
    {
      "cell_type": "markdown",
      "metadata": {
        "id": "iv2MRsrKcqhf"
      },
      "source": [
        "コード2-5-1　利用するライブラリをインポートする"
      ]
    },
    {
      "cell_type": "code",
      "execution_count": null,
      "metadata": {
        "id": "F2Ip71i2Fkfq"
      },
      "outputs": [],
      "source": [
        "import numpy as np\n",
        "import pandas as pd"
      ]
    },
    {
      "cell_type": "markdown",
      "metadata": {
        "id": "7rLrwuno4fGP"
      },
      "source": [
        "**STEP1　データの用意**"
      ]
    },
    {
      "cell_type": "markdown",
      "metadata": {
        "id": "l7u4bUdycsVw"
      },
      "source": [
        "コード2-5-2　乳がんのデータセットを読み込む"
      ]
    },
    {
      "cell_type": "code",
      "execution_count": null,
      "metadata": {
        "id": "hN7Gl2fmHARb"
      },
      "outputs": [],
      "source": [
        "from sklearn.datasets import load_breast_cancer\n",
        "bc = load_breast_cancer(as_frame=True)\n",
        "bc"
      ]
    },
    {
      "cell_type": "markdown",
      "metadata": {
        "id": "ROgAlvS_c55q"
      },
      "source": [
        "コード2-5-3　乳がんのデータセットの内容を確認（変数bcの型の確認）"
      ]
    },
    {
      "cell_type": "code",
      "execution_count": null,
      "metadata": {
        "id": "uZEEhnM_l3_W"
      },
      "outputs": [],
      "source": [
        "type(bc)"
      ]
    },
    {
      "cell_type": "markdown",
      "metadata": {
        "id": "s3w8hUE_l571"
      },
      "source": [
        "コード2-5-4　乳がんのデータセットの内容を確認（bcのキーDESCRの出力）"
      ]
    },
    {
      "cell_type": "code",
      "execution_count": null,
      "metadata": {
        "id": "jEHeXixal8w3"
      },
      "outputs": [],
      "source": [
        "print(bc.DESCR)"
      ]
    },
    {
      "cell_type": "markdown",
      "metadata": {
        "id": "OCa8zA6Tl7Rg"
      },
      "source": [
        "コード2-5-5　y_bcに正解値をデータフレームとして格納"
      ]
    },
    {
      "cell_type": "code",
      "execution_count": null,
      "metadata": {
        "id": "HqH0_auBULdJ"
      },
      "outputs": [],
      "source": [
        "y_bc = bc.target\n",
        "y_bc.head()"
      ]
    },
    {
      "cell_type": "markdown",
      "metadata": {
        "id": "R6twsC_smNNh"
      },
      "source": [
        "コード2-5-6　y_bcの配列の形状とデータ型の確認"
      ]
    },
    {
      "cell_type": "code",
      "execution_count": null,
      "metadata": {
        "id": "IRV5HiDjmP_Z"
      },
      "outputs": [],
      "source": [
        "print(y_bc.shape)\n",
        "print(type(y_bc))"
      ]
    },
    {
      "cell_type": "markdown",
      "metadata": {
        "id": "7CJSGuvImUsM"
      },
      "source": [
        "コード2-5-7　y_bcの取りうる値と頻度の確認"
      ]
    },
    {
      "cell_type": "code",
      "execution_count": null,
      "metadata": {
        "id": "tCbh0mzmmWH2"
      },
      "outputs": [],
      "source": [
        "y_bc.value_counts()"
      ]
    },
    {
      "cell_type": "markdown",
      "metadata": {
        "id": "MzESYkNhmZQq"
      },
      "source": [
        "コード2-5-8　x_bcに特徴量をデータフレームとして格納"
      ]
    },
    {
      "cell_type": "code",
      "execution_count": null,
      "metadata": {
        "id": "4VWSnFgdmQ2_"
      },
      "outputs": [],
      "source": [
        "x_bc = bc.data\n",
        "x_bc.head()"
      ]
    },
    {
      "cell_type": "markdown",
      "metadata": {
        "id": "f1DsXKcrmkS-"
      },
      "source": [
        "コード2-5-9　x_bcから10個の特徴量をx_bc10として格納"
      ]
    },
    {
      "cell_type": "code",
      "execution_count": null,
      "metadata": {
        "id": "0lQmSDr9mgN_"
      },
      "outputs": [],
      "source": [
        "x_bc10 = x_bc.iloc[:, 0:10]\n",
        "x_bc10.head()"
      ]
    },
    {
      "cell_type": "markdown",
      "metadata": {
        "id": "8NPnzr_PmrNt"
      },
      "source": [
        "コード2-5-10　x_bc10の配列の形状とデータ型の確認"
      ]
    },
    {
      "cell_type": "code",
      "execution_count": null,
      "metadata": {
        "id": "i01TLXBVmtAB"
      },
      "outputs": [],
      "source": [
        "print(x_bc10.shape)\n",
        "print(type(x_bc10))"
      ]
    },
    {
      "cell_type": "markdown",
      "metadata": {
        "id": "3zzPdBfRdJVf"
      },
      "source": [
        "コード2-5-11　学習用データと検証用データに分割"
      ]
    },
    {
      "cell_type": "code",
      "execution_count": null,
      "metadata": {
        "id": "bt-OQ7O8ggAu"
      },
      "outputs": [],
      "source": [
        "from sklearn.model_selection import train_test_split\n",
        "x_train, x_test, y_train, y_test = train_test_split(\n",
        "    x_bc10, y_bc, test_size=0.3, random_state=0)"
      ]
    },
    {
      "cell_type": "markdown",
      "metadata": {
        "id": "_1gVXmyi7DLn"
      },
      "source": [
        "**STEP2　学習モデルの選択**"
      ]
    },
    {
      "cell_type": "markdown",
      "metadata": {
        "id": "DXlGHWeMdiHa"
      },
      "source": [
        "コード2-5-12　ロジスティック回帰モデルを選択"
      ]
    },
    {
      "cell_type": "code",
      "execution_count": null,
      "metadata": {
        "id": "H0pr1MiR2bUQ"
      },
      "outputs": [],
      "source": [
        "from sklearn.linear_model import LogisticRegression\n",
        "model_bc = LogisticRegression()"
      ]
    },
    {
      "cell_type": "markdown",
      "metadata": {
        "id": "tTF1Aqa17Rb4"
      },
      "source": [
        "**STEP3　学習用データを用いて学習**"
      ]
    },
    {
      "cell_type": "markdown",
      "metadata": {
        "id": "9J6QntnadtBo"
      },
      "source": [
        "コード2-5-13　学習用データ（x_trainとy_train）を用いてmodel_bcで学習させる"
      ]
    },
    {
      "cell_type": "code",
      "execution_count": null,
      "metadata": {
        "id": "9PF9n4z1dq3j"
      },
      "outputs": [],
      "source": [
        "model_bc.fit(x_train, y_train)"
      ]
    },
    {
      "cell_type": "markdown",
      "metadata": {
        "id": "Mqycin9_7gDj"
      },
      "source": [
        "**STEP4　傾き（偏回帰係数）と切片（定数項）を推定**"
      ]
    },
    {
      "cell_type": "markdown",
      "metadata": {
        "id": "or-Y2PaPdv7g"
      },
      "source": [
        "コード2-5-14　model_bcの傾きと切片を出力する"
      ]
    },
    {
      "cell_type": "code",
      "execution_count": null,
      "metadata": {
        "id": "iA5jX1YahJlo"
      },
      "outputs": [],
      "source": [
        "print(model_bc.coef_)\n",
        "print(model_bc.intercept_)"
      ]
    },
    {
      "cell_type": "markdown",
      "metadata": {
        "id": "097W_YQ3-uFG"
      },
      "source": [
        "**STEP5　新しい変数で予測**"
      ]
    },
    {
      "cell_type": "markdown",
      "metadata": {
        "id": "Rw3bt-h3ecrE"
      },
      "source": [
        "コード2-5-15　model_bcに検証用データ（x_test）を入れて予測する"
      ]
    },
    {
      "cell_type": "code",
      "execution_count": null,
      "metadata": {
        "id": "GeyL5kgY3tmb"
      },
      "outputs": [],
      "source": [
        "print(model_bc.predict(x_test)) # x_testから予測した予測値yを出力\n",
        "print(np.array(y_test))         # 実際の正解値y_testを出力"
      ]
    },
    {
      "cell_type": "markdown",
      "metadata": {
        "id": "RDrWTo1Jejkz"
      },
      "source": [
        "コード2-5-16　model_bcに検証用データ（x_test）を入れて，y=0，y=1となる確率を予測する"
      ]
    },
    {
      "cell_type": "code",
      "execution_count": null,
      "metadata": {
        "id": "vTqXpBBweowI"
      },
      "outputs": [],
      "source": [
        "print(model_bc.predict_proba(x_test))"
      ]
    },
    {
      "cell_type": "markdown",
      "metadata": {
        "id": "Kt7fj0M0-z6S"
      },
      "source": [
        "**STEP6　モデルの評価**"
      ]
    },
    {
      "cell_type": "markdown",
      "metadata": {
        "id": "GJ8RlWw8erCl"
      },
      "source": [
        "コード2-5-17　モデルの性能評価を行う"
      ]
    },
    {
      "cell_type": "code",
      "execution_count": null,
      "metadata": {
        "id": "W4Zhh7-zfKlL"
      },
      "outputs": [],
      "source": [
        "print(model_bc.score(x_test, y_test))\n",
        "print(model_bc.score(x_train, y_train))"
      ]
    }
  ],
  "metadata": {
    "colab": {
      "provenance": [],
      "toc_visible": true
    },
    "kernelspec": {
      "display_name": "Python 3",
      "name": "python3"
    },
    "language_info": {
      "codemirror_mode": {
        "name": "ipython",
        "version": 3
      },
      "file_extension": ".py",
      "mimetype": "text/x-python",
      "name": "python",
      "nbconvert_exporter": "python",
      "pygments_lexer": "ipython3",
      "version": "3.9.7"
    }
  },
  "nbformat": 4,
  "nbformat_minor": 0
}
