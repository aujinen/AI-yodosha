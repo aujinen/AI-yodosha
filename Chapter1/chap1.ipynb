{
  "cells": [
    {
      "cell_type": "markdown",
      "metadata": {},
      "source": [
        "# Local environment version\n",
        "The parts specific to the Google Colab version are commented out with #=#.<br>\n",
        "The parts added in the local environment have #++ at the end of the line.<br>\n",
        "original: https://github.com/TMDU-AI/AI-yodosha<br>\n",
        "modified by H.Nishiyama, Niigata-Univ.<br>"
      ]
    },
    {
      "cell_type": "markdown",
      "metadata": {
        "id": "yUF0-DCYW8Jt"
      },
      "source": [
        "# **1章　Python に触ってみよう**"
      ]
    },
    {
      "cell_type": "markdown",
      "metadata": {
        "id": "hfQP4R7sXPka"
      },
      "source": [
        "# 1-2　Pythonの基本"
      ]
    },
    {
      "cell_type": "markdown",
      "metadata": {
        "id": "8m8_NxS-XjZy"
      },
      "source": [
        "**1）　変数**"
      ]
    },
    {
      "cell_type": "markdown",
      "metadata": {
        "id": "_bjTu8dyAiMQ"
      },
      "source": [
        "コード1-2-1　変数の代入と出力\n",
        "\n",
        "\n",
        "\n"
      ]
    },
    {
      "cell_type": "code",
      "execution_count": null,
      "metadata": {
        "id": "mlBPq5lLAJqv"
      },
      "outputs": [],
      "source": [
        "a = 100\n",
        "print(a)"
      ]
    },
    {
      "cell_type": "markdown",
      "metadata": {
        "id": "ZmUfLA8RAy9J"
      },
      "source": [
        "コード1-2-2　変数の上書き"
      ]
    },
    {
      "cell_type": "code",
      "execution_count": null,
      "metadata": {
        "id": "6o-A3NliBU0-"
      },
      "outputs": [],
      "source": [
        "a = 'Hello, world!'    # 「'」（シングルクォーテーション）の中に文字を入れる\n",
        "print(a)"
      ]
    },
    {
      "cell_type": "markdown",
      "metadata": {
        "id": "eg2tJm7KY_Ct"
      },
      "source": [
        "**2）　四則演算**"
      ]
    },
    {
      "cell_type": "markdown",
      "metadata": {
        "id": "GfCl0PdRBEcp"
      },
      "source": [
        "コード1-2-3　四則演算1"
      ]
    },
    {
      "cell_type": "code",
      "execution_count": null,
      "metadata": {
        "id": "yw7c-ghyA1_5"
      },
      "outputs": [],
      "source": [
        "a = 10\n",
        "b = 5\n",
        "print(a + b)    # 加算\n",
        "print(a - b)    # 減算\n",
        "print(a * b)    # 乗算\n",
        "print(a / b)    # 除算"
      ]
    },
    {
      "cell_type": "markdown",
      "metadata": {
        "id": "5ncW24sNFCJb"
      },
      "source": [
        "コード1-2-4　四則演算2"
      ]
    },
    {
      "cell_type": "code",
      "execution_count": null,
      "metadata": {
        "id": "NqRe2BBMFGW7"
      },
      "outputs": [],
      "source": [
        "print(9 // 2)    # 整数除算\n",
        "print(9 % 2)     # 剰余演算\n",
        "print(3 ** 2)    # べき乗演算"
      ]
    },
    {
      "cell_type": "markdown",
      "metadata": {
        "id": "Ujq8XlvlZMod"
      },
      "source": [
        "**3）　変数の型**"
      ]
    },
    {
      "cell_type": "markdown",
      "metadata": {
        "id": "FEOw_80MXC7Q"
      },
      "source": [
        "コード1-2-5　変数の型"
      ]
    },
    {
      "cell_type": "code",
      "execution_count": null,
      "metadata": {
        "id": "eit5UEuuwqwm"
      },
      "outputs": [],
      "source": [
        "a = 5\n",
        "b = 5.0\n",
        "c = 3 + 4 * b\n",
        "greeting = 'Hello, world!'\n",
        "numbers = [1, 2, 3, 4, 5]\n",
        "person = {'name': 'John', 'age': 30, 'city': 'New York'}"
      ]
    },
    {
      "cell_type": "markdown",
      "metadata": {
        "id": "g9mNSH5D_fln"
      },
      "source": [
        "コード1-2-6　type関数"
      ]
    },
    {
      "cell_type": "code",
      "execution_count": null,
      "metadata": {
        "id": "Am8SZJhjIUbs"
      },
      "outputs": [],
      "source": [
        "print(type(a))    # 「print(type(変数名))」で変数のデータ型を出力\n",
        "print(type(b))\n",
        "print(type(c))\n",
        "print(type(greeting))\n",
        "print(type(numbers))\n",
        "print(type(person))"
      ]
    },
    {
      "cell_type": "markdown",
      "metadata": {
        "id": "IDpOSs6OZsxC"
      },
      "source": [
        "**4）　リスト**"
      ]
    },
    {
      "cell_type": "markdown",
      "metadata": {
        "id": "bUpBbYpW_noS"
      },
      "source": [
        "コード1-2-7　リスト"
      ]
    },
    {
      "cell_type": "code",
      "execution_count": null,
      "metadata": {
        "id": "G_Dp0-ap9wyo"
      },
      "outputs": [],
      "source": [
        "fruits = ['apple', 'banana', 'cherry', 'melon']\n",
        "print(fruits[0])\n",
        "print(fruits[1])"
      ]
    },
    {
      "cell_type": "markdown",
      "metadata": {
        "id": "S-Suu2X0_uJk"
      },
      "source": [
        "コード1-2-8　リストの要素の置換"
      ]
    },
    {
      "cell_type": "code",
      "execution_count": null,
      "metadata": {
        "id": "Ph1NEV4XXd20"
      },
      "outputs": [],
      "source": [
        "fruits = ['apple', 'banana', 'cherry', 'melon']\n",
        "fruits[1] = 'blueberry'\n",
        "print(fruits)"
      ]
    },
    {
      "cell_type": "markdown",
      "metadata": {
        "id": "bk2sz6is_4v9"
      },
      "source": [
        "コード1-2-9　リストの要素の追加，削除"
      ]
    },
    {
      "cell_type": "code",
      "execution_count": null,
      "metadata": {
        "id": "LsX7zYUuFyFS"
      },
      "outputs": [],
      "source": [
        "fruits = ['apple', 'blueberry', 'cherry', 'melon']\n",
        "fruits.append('strawberry')\n",
        "print(fruits)\n",
        "fruits.remove('cherry')\n",
        "print(fruits)"
      ]
    },
    {
      "cell_type": "markdown",
      "metadata": {
        "id": "KgzLtX26uoHp"
      },
      "source": [
        "コード1-2-10　リストのスライス"
      ]
    },
    {
      "cell_type": "code",
      "execution_count": null,
      "metadata": {
        "id": "f4rwlf68IeoE"
      },
      "outputs": [],
      "source": [
        "fruits = ['apple', 'blueberry', 'cherry', 'melon']\n",
        "print(fruits[1:3])\n",
        "print(fruits[:2])"
      ]
    },
    {
      "cell_type": "markdown",
      "metadata": {
        "id": "VqsHPkRbaGHK"
      },
      "source": [
        "**5）　関数**"
      ]
    },
    {
      "cell_type": "markdown",
      "metadata": {
        "id": "v-EnOMmN4edC"
      },
      "source": [
        "コード1-2-11　関数の定義"
      ]
    },
    {
      "cell_type": "code",
      "execution_count": null,
      "metadata": {
        "id": "DiOBNLzY1ss-"
      },
      "outputs": [],
      "source": [
        "def cal(a, b, c):\n",
        "  return a + 4 * b + 5 * c"
      ]
    },
    {
      "cell_type": "markdown",
      "metadata": {
        "id": "txleglNjvc26"
      },
      "source": [
        "コード1-2-12　定義した関数calの実行"
      ]
    },
    {
      "cell_type": "code",
      "execution_count": null,
      "metadata": {
        "id": "MmUxdo1SJAhZ"
      },
      "outputs": [],
      "source": [
        "result = cal(1, 2, 3)\n",
        "print(result)"
      ]
    },
    {
      "cell_type": "markdown",
      "metadata": {
        "id": "U3ikQ_GSaTzt"
      },
      "source": [
        "# 1-3　演習用データの読み込み"
      ]
    },
    {
      "cell_type": "code",
      "execution_count": null,
      "metadata": {
        "id": "wD1dY8o9wEtR"
      },
      "outputs": [],
      "source": [
        "# 1章から始めている場合や一度ノートブックの接続が切れている場合はこのセルを実行して\n",
        "# 再度Google Driveをマウントしてください\n",
        "#=# from google.colab import drive\n",
        "#=# drive.mount('/content/drive')\n",
        "%pwd #++"
      ]
    },
    {
      "cell_type": "markdown",
      "metadata": {
        "id": "yDCUbqsolDa9"
      },
      "source": [
        "コード1-3-1　csvファイル（演習用データ）の読み込み"
      ]
    },
    {
      "cell_type": "code",
      "execution_count": null,
      "metadata": {
        "id": "_ywINX9azLt3"
      },
      "outputs": [],
      "source": [
        "import pandas as pd\n",
        "klist = pd.read_csv(\n",
        "    #=#'/content/drive/MyDrive/dwhdata.csv', encoding='utf-8')\n",
        "    'dwhdata.csv', encoding='utf-8')\n",
        "klist"
      ]
    },
    {
      "cell_type": "markdown",
      "metadata": {
        "id": "5-6qitrfar9A"
      },
      "source": [
        "# 1-4　データフレームの操作"
      ]
    },
    {
      "cell_type": "markdown",
      "metadata": {
        "id": "uYGw2QU0xgKB"
      },
      "source": [
        "コード1-4-1　データフレームの操作（形状，データ数，列名の取得）"
      ]
    },
    {
      "cell_type": "code",
      "execution_count": null,
      "metadata": {
        "id": "9jjInPbZK4Bv"
      },
      "outputs": [],
      "source": [
        "print(klist.shape)\n",
        "print(klist.size)\n",
        "print(klist.columns)"
      ]
    },
    {
      "cell_type": "markdown",
      "metadata": {
        "id": "vwbnK5H3xyjg"
      },
      "source": [
        "コード1-4-2　データフレームの操作（特定の列の抽出）"
      ]
    },
    {
      "cell_type": "code",
      "execution_count": null,
      "metadata": {
        "id": "TwgW5zD1_opK"
      },
      "outputs": [],
      "source": [
        "print(klist['age'])"
      ]
    },
    {
      "cell_type": "markdown",
      "metadata": {
        "id": "c8acCnLufsBi"
      },
      "source": [
        "コード1-4-3　データフレームの操作（複数の列の抽出）"
      ]
    },
    {
      "cell_type": "code",
      "execution_count": null,
      "metadata": {
        "id": "zhNax7GYcBid"
      },
      "outputs": [],
      "source": [
        "print(klist[['id', 'age']])"
      ]
    },
    {
      "cell_type": "markdown",
      "metadata": {
        "id": "cmZB8NYKnk6l"
      },
      "source": [
        "コード1-4-4　データフレームの操作（特定の行の抽出）"
      ]
    },
    {
      "cell_type": "code",
      "execution_count": null,
      "metadata": {
        "id": "68RUpLT7bVJo"
      },
      "outputs": [],
      "source": [
        "print(klist[0:1])"
      ]
    },
    {
      "cell_type": "markdown",
      "metadata": {
        "id": "KIqUuQQ2mXo_"
      },
      "source": [
        "コード1-4-5　データフレームの操作（複数の行の抽出）"
      ]
    },
    {
      "cell_type": "code",
      "execution_count": null,
      "metadata": {
        "id": "eVS1TcLMbe-0"
      },
      "outputs": [],
      "source": [
        "print(klist[3:10])"
      ]
    },
    {
      "cell_type": "markdown",
      "metadata": {
        "id": "g2Cq_k4L1M8m"
      },
      "source": [
        "コード1-4-6　データフレームの操作（特定の行と列を指定した値の抽出）"
      ]
    },
    {
      "cell_type": "code",
      "execution_count": null,
      "metadata": {
        "id": "LR6JwtCFe8WD"
      },
      "outputs": [],
      "source": [
        "print(klist.loc[3, 'tooth name'])"
      ]
    },
    {
      "cell_type": "markdown",
      "metadata": {
        "id": "vW-jZ1x5oLqU"
      },
      "source": [
        "コード1-4-7　データフレームの操作（複数の行と列の抽出1）"
      ]
    },
    {
      "cell_type": "code",
      "execution_count": null,
      "metadata": {
        "id": "7Z6evwIto9Hq"
      },
      "outputs": [],
      "source": [
        "print(klist.loc[4:6, ['tooth name', 'tooth record']])"
      ]
    },
    {
      "cell_type": "markdown",
      "metadata": {
        "id": "T1QEtNoWpZdQ"
      },
      "source": [
        "コード1-4-8　データフレームの操作（複数の行と列の抽出2）"
      ]
    },
    {
      "cell_type": "code",
      "execution_count": null,
      "metadata": {
        "id": "gkOsVvXo1MTr"
      },
      "outputs": [],
      "source": [
        "print(klist.loc[10000:20000, :])"
      ]
    },
    {
      "cell_type": "markdown",
      "metadata": {
        "id": "Y1YWoDRN5FSY"
      },
      "source": [
        "コード1-4-9　データフレームの操作（特定の条件を満たす行の抽出）"
      ]
    },
    {
      "cell_type": "code",
      "execution_count": null,
      "metadata": {
        "id": "2hHbeiK4FFog"
      },
      "outputs": [],
      "source": [
        "print(klist[klist['gender'] == '男'])"
      ]
    },
    {
      "cell_type": "markdown",
      "metadata": {
        "id": "3HZLVCtObZPR"
      },
      "source": [
        "# 1-5　散布図を作成するためのデータ準備"
      ]
    },
    {
      "cell_type": "markdown",
      "metadata": {
        "id": "DEPGsHT98E_q"
      },
      "source": [
        "コード1-5-1　患者の数を数える"
      ]
    },
    {
      "cell_type": "code",
      "execution_count": null,
      "metadata": {
        "id": "GgkaIqTk5qVO"
      },
      "outputs": [],
      "source": [
        "print(klist['id'].unique())\n",
        "print(klist['id'].nunique())"
      ]
    },
    {
      "cell_type": "markdown",
      "metadata": {
        "id": "SkeeOaF_9iJM"
      },
      "source": [
        "コード1-5-2　患者の年齢を整理する"
      ]
    },
    {
      "cell_type": "code",
      "execution_count": null,
      "metadata": {
        "id": "qWqr2GAaTVFx"
      },
      "outputs": [],
      "source": [
        "print(klist.groupby('id')['age'].unique())"
      ]
    },
    {
      "cell_type": "markdown",
      "metadata": {
        "id": "m4amMv7x1Ho0"
      },
      "source": [
        "コード1-5-3　'tooth record'列の'残存歯'を1，'喪失歯'を0に置換する"
      ]
    },
    {
      "cell_type": "code",
      "execution_count": null,
      "metadata": {
        "id": "PO6km5Kp7UJt"
      },
      "outputs": [],
      "source": [
        "for i in range(53024):\n",
        "  if klist.loc[i, 'tooth record'] == '残存歯':\n",
        "    klist.loc[i, 'tooth record'] = 1\n",
        "  else:\n",
        "    klist.loc[i, 'tooth record'] = 0"
      ]
    },
    {
      "cell_type": "markdown",
      "metadata": {
        "id": "nkGCD23x-NAP"
      },
      "source": [
        "コード1-5-4　置換されたklistを確認"
      ]
    },
    {
      "cell_type": "code",
      "execution_count": null,
      "metadata": {
        "id": "5RmW_Asu7wDn"
      },
      "outputs": [],
      "source": [
        "klist"
      ]
    },
    {
      "cell_type": "markdown",
      "metadata": {
        "id": "gKzCRFeB1wkC"
      },
      "source": [
        "コード1-5-5　'id'列でグループ化して'tooth record'列の値を合計"
      ]
    },
    {
      "cell_type": "code",
      "execution_count": null,
      "metadata": {
        "id": "LIc2QGWxXydU"
      },
      "outputs": [],
      "source": [
        "print(klist.groupby('id')['tooth record'].sum())"
      ]
    },
    {
      "cell_type": "markdown",
      "metadata": {
        "id": "PTUB68oi4HZo"
      },
      "source": [
        "コード1-5-6　患者ごとの年齢を変数xに，歯の本数を変数yに代入"
      ]
    },
    {
      "cell_type": "code",
      "execution_count": null,
      "metadata": {
        "id": "9ax7VUFSB_fS"
      },
      "outputs": [],
      "source": [
        "x = klist.groupby('id')['age'].unique()\n",
        "y = klist.groupby('id')['tooth record'].sum()"
      ]
    },
    {
      "cell_type": "markdown",
      "metadata": {
        "id": "JUSaYIXc4MTu"
      },
      "source": [
        "コード1-5-7　作図に必要なmatplotlibのインポート"
      ]
    },
    {
      "cell_type": "code",
      "execution_count": null,
      "metadata": {
        "id": "AeIqf3TJCBba"
      },
      "outputs": [],
      "source": [
        "import matplotlib.pyplot as plt\n",
        "#=# !pip install japanize-matplotlib\n",
        "import japanize_matplotlib"
      ]
    },
    {
      "cell_type": "markdown",
      "metadata": {
        "id": "aaP5aEs8SVPI"
      },
      "source": [
        "コード1-5-8　散布図の作成"
      ]
    },
    {
      "cell_type": "code",
      "execution_count": null,
      "metadata": {
        "id": "59ZkwFWVhSIw"
      },
      "outputs": [],
      "source": [
        "plt.figure()                      # 作図領域の作成\n",
        "plt.title('散布図: 年齢と歯の本数')  # 図のタイトルの設定\n",
        "plt.xlabel('年齢')                 # X軸のラベル名の設定\n",
        "plt.ylabel('歯の本数')              # Y軸のラベル名の設定\n",
        "plt.grid()                        # グリッド線の表示\n",
        "plt.scatter(x, y)                 # 散布図の作成\n",
        "plt.show()                        # 出力画面に表示"
      ]
    }
  ],
  "metadata": {
    "colab": {
      "provenance": [],
      "toc_visible": true
    },
    "kernelspec": {
      "display_name": "Python 3",
      "name": "python3"
    },
    "language_info": {
      "codemirror_mode": {
        "name": "ipython",
        "version": 3
      },
      "file_extension": ".py",
      "mimetype": "text/x-python",
      "name": "python",
      "nbconvert_exporter": "python",
      "pygments_lexer": "ipython3",
      "version": "3.9.7"
    }
  },
  "nbformat": 4,
  "nbformat_minor": 0
}
