{
  "cells": [
    {
      "cell_type": "markdown",
      "metadata": {},
      "source": [
        "# Local environment version\n",
        "The parts specific to the Google Colab version are commented out with #=#.<br>\n",
        "The parts added in the local environment have #++ at the end of the line.<br>\n",
        "original: https://github.com/TMDU-AI/AI-yodosha\n",
        "modified by H.Nishiyama, Niigata-Univ.<br>"
      ]
    },
    {
      "cell_type": "markdown",
      "metadata": {
        "id": "I_A0TCsE0H7X"
      },
      "source": [
        "# **3章　さまざまな機械学習を理解しよう**"
      ]
    },
    {
      "cell_type": "markdown",
      "metadata": {
        "id": "xA2i_DbALZAj"
      },
      "source": [
        "# 3-2　サポートベクターマシンを実践してみよう"
      ]
    },
    {
      "cell_type": "markdown",
      "metadata": {
        "id": "aebfdq8SMM8k"
      },
      "source": [
        "**STEP0　事前準備**"
      ]
    },
    {
      "cell_type": "markdown",
      "metadata": {
        "id": "TqJL8DLK0H7X"
      },
      "source": [
        "コード3-2-1　利用するライブラリをインポートする"
      ]
    },
    {
      "cell_type": "code",
      "execution_count": null,
      "metadata": {
        "id": "BLQsgVRe0H7X"
      },
      "outputs": [],
      "source": [
        "import numpy as np\n",
        "import pandas as pd"
      ]
    },
    {
      "cell_type": "markdown",
      "metadata": {
        "id": "yi2HSrhrPNX2"
      },
      "source": [
        "**STEP1　データの用意**"
      ]
    },
    {
      "cell_type": "markdown",
      "metadata": {
        "id": "CrbaXfpz0H7Y"
      },
      "source": [
        "コード3-2-2　乳がんのデータセットを読み込む"
      ]
    },
    {
      "cell_type": "code",
      "execution_count": null,
      "metadata": {
        "id": "mHdfyeQw0H7Y"
      },
      "outputs": [],
      "source": [
        "from sklearn.datasets import load_breast_cancer\n",
        "bc = load_breast_cancer(as_frame=True)"
      ]
    },
    {
      "cell_type": "markdown",
      "metadata": {
        "id": "tAzhRTBp0H7Y"
      },
      "source": [
        "コード3-2-3　特徴量と正解値を学習用データと検証用データに分割"
      ]
    },
    {
      "cell_type": "code",
      "execution_count": null,
      "metadata": {
        "id": "zEvu2kTZ0H7Y"
      },
      "outputs": [],
      "source": [
        "from sklearn.model_selection import train_test_split\n",
        "x_train, x_test, y_train, y_test = train_test_split(\n",
        "    bc.data, bc.target, test_size=0.3, random_state=0)"
      ]
    },
    {
      "cell_type": "markdown",
      "metadata": {
        "id": "M2BP_7KQP-7j"
      },
      "source": [
        "**STEP2　学習モデルの選択**"
      ]
    },
    {
      "cell_type": "markdown",
      "metadata": {
        "id": "etcNdjmZ0H7Y"
      },
      "source": [
        "コード3-2-4　サポートベクターマシンを選択"
      ]
    },
    {
      "cell_type": "code",
      "execution_count": null,
      "metadata": {
        "id": "LcfaEBqP0H7Y"
      },
      "outputs": [],
      "source": [
        "from sklearn.svm import SVC\n",
        "model_svm = SVC(kernel='rbf', random_state=0)"
      ]
    },
    {
      "cell_type": "markdown",
      "metadata": {
        "id": "J1uC_cdARBfV"
      },
      "source": [
        "**STEP3　データを入れて学習**"
      ]
    },
    {
      "cell_type": "markdown",
      "metadata": {
        "id": "9ppqQFDb0H7Y"
      },
      "source": [
        "コード3-2-5　学習用データを入れて学習させる"
      ]
    },
    {
      "cell_type": "code",
      "execution_count": null,
      "metadata": {
        "id": "CL7XGiEZ0H7Y"
      },
      "outputs": [],
      "source": [
        "model_svm.fit(x_train, y_train)"
      ]
    },
    {
      "cell_type": "markdown",
      "metadata": {
        "id": "-iWW7gOZRF5j"
      },
      "source": [
        "**STEP4　予測を行う**"
      ]
    },
    {
      "cell_type": "markdown",
      "metadata": {
        "id": "sqNLKsHr0H7Y"
      },
      "source": [
        "コード3-2-6　検証用データで予測を行う"
      ]
    },
    {
      "cell_type": "code",
      "execution_count": null,
      "metadata": {
        "id": "yih43DZC0H7Z"
      },
      "outputs": [],
      "source": [
        "print(model_svm.predict(x_test)) # x_testから予測した予測値yを出力\n",
        "print(np.array(y_test))          # 実際の正解値y_testを出力"
      ]
    },
    {
      "cell_type": "markdown",
      "metadata": {
        "id": "4jm5hP0cSVW3"
      },
      "source": [
        "**STEP5　モデルの評価**"
      ]
    },
    {
      "cell_type": "markdown",
      "metadata": {
        "id": "ZTAzHF500r7U"
      },
      "source": [
        "コード3-2-7　モデルの性能評価を行う"
      ]
    },
    {
      "cell_type": "code",
      "execution_count": null,
      "metadata": {
        "id": "DfG1H18S0qml"
      },
      "outputs": [],
      "source": [
        "print(model_svm.score(x_test, y_test))"
      ]
    },
    {
      "cell_type": "markdown",
      "metadata": {
        "id": "jgSlHb9y8M7I"
      },
      "source": [
        "# 3-3　決定木分析を実践してみよう"
      ]
    },
    {
      "cell_type": "markdown",
      "metadata": {
        "id": "QVYC85l8TRRn"
      },
      "source": [
        "**STEP0　事前準備**"
      ]
    },
    {
      "cell_type": "markdown",
      "metadata": {
        "id": "xT7fCXO5cnWt"
      },
      "source": [
        "コード3-3-1　利用するライブラリをインポートする"
      ]
    },
    {
      "cell_type": "code",
      "execution_count": null,
      "metadata": {
        "id": "OdOc9KAytzIG"
      },
      "outputs": [],
      "source": [
        "import numpy as np\n",
        "import pandas as pd\n",
        "import matplotlib.pyplot as plt"
      ]
    },
    {
      "cell_type": "markdown",
      "metadata": {
        "id": "j8wOHHfuUNHl"
      },
      "source": [
        "**STEP1　データの用意**"
      ]
    },
    {
      "cell_type": "markdown",
      "metadata": {
        "id": "gJeXy-VqeJZV"
      },
      "source": [
        "コード3-3-2　乳がんのデータセットを読み込む"
      ]
    },
    {
      "cell_type": "code",
      "execution_count": null,
      "metadata": {
        "id": "WVRowW3u_4Ii"
      },
      "outputs": [],
      "source": [
        "from sklearn.datasets import load_breast_cancer\n",
        "bc = load_breast_cancer(as_frame=True)"
      ]
    },
    {
      "cell_type": "markdown",
      "metadata": {
        "id": "NMLFu-uleTxY"
      },
      "source": [
        "コード3-3-3　特徴量と正解値を学習用データと検証用データに分割"
      ]
    },
    {
      "cell_type": "code",
      "execution_count": null,
      "metadata": {
        "id": "sLDiLA2R30Ir"
      },
      "outputs": [],
      "source": [
        "from sklearn.model_selection import train_test_split\n",
        "x_train, x_test, y_train, y_test = train_test_split(\n",
        "    bc.data, bc.target, test_size=0.3, random_state=0)"
      ]
    },
    {
      "cell_type": "markdown",
      "metadata": {
        "id": "2QjGhFEBVAkj"
      },
      "source": [
        "**STEP2　学習モデルの選択**"
      ]
    },
    {
      "cell_type": "markdown",
      "metadata": {
        "id": "jIHZx9zgemUl"
      },
      "source": [
        "コード3-3-4　決定木分析を選択"
      ]
    },
    {
      "cell_type": "code",
      "execution_count": null,
      "metadata": {
        "id": "kKE_fnuu8MvH"
      },
      "outputs": [],
      "source": [
        "from sklearn.tree import DecisionTreeClassifier\n",
        "model_tree_c = DecisionTreeClassifier(\n",
        "    criterion='gini', max_depth=2,\n",
        "    min_samples_split=10, random_state=0)"
      ]
    },
    {
      "cell_type": "markdown",
      "metadata": {
        "id": "KKkFS0RFVU-3"
      },
      "source": [
        "**STEP3　データを入れて学習**"
      ]
    },
    {
      "cell_type": "markdown",
      "metadata": {
        "id": "1z4iIlvbengp"
      },
      "source": [
        "コード3-3-5　学習用データを入れて学習させる"
      ]
    },
    {
      "cell_type": "code",
      "execution_count": null,
      "metadata": {
        "id": "5AYJod5l8MhE"
      },
      "outputs": [],
      "source": [
        "model_tree_c.fit(x_train, y_train)"
      ]
    },
    {
      "cell_type": "markdown",
      "metadata": {
        "id": "5P5XD2GjViE1"
      },
      "source": [
        "**STEP4　予測を行う**"
      ]
    },
    {
      "cell_type": "markdown",
      "metadata": {
        "id": "rqa1dAlQesix"
      },
      "source": [
        "コード3-3-6　検証用データで予測を行う"
      ]
    },
    {
      "cell_type": "code",
      "execution_count": null,
      "metadata": {
        "id": "8f-oNkZd_gHd"
      },
      "outputs": [],
      "source": [
        "print(model_tree_c.predict(x_test)) # x_testから予測した予測値yを出力\n",
        "print(np.array(y_test))             # 実際の正解値y_testを出力"
      ]
    },
    {
      "cell_type": "markdown",
      "metadata": {
        "id": "7NvMKEg8V6mc"
      },
      "source": [
        "**STEP5　モデルの評価**"
      ]
    },
    {
      "cell_type": "markdown",
      "metadata": {
        "id": "fwQIwHxJ2CKk"
      },
      "source": [
        "コード3-3-7　モデルの性能評価を行う"
      ]
    },
    {
      "cell_type": "code",
      "execution_count": null,
      "metadata": {
        "id": "mANn3DwM15J5"
      },
      "outputs": [],
      "source": [
        "print(model_tree_c.score(x_test, y_test))"
      ]
    },
    {
      "cell_type": "markdown",
      "metadata": {
        "id": "eEOeUKgQfI78"
      },
      "source": [
        "コード3-3-8　決定木の図示"
      ]
    },
    {
      "cell_type": "code",
      "execution_count": null,
      "metadata": {
        "id": "pfDGxKYfA4pI"
      },
      "outputs": [],
      "source": [
        "from sklearn.tree import plot_tree\n",
        "plot_tree(\n",
        "    model_tree_c,\n",
        "    feature_names=bc.feature_names,\n",
        "    class_names=bc.target_names, filled=True)\n",
        "plt.show()"
      ]
    },
    {
      "cell_type": "markdown",
      "metadata": {
        "id": "XGIfoxf_2X8p"
      },
      "source": [
        "コード3-3-9　変数bcのfeature_names（特徴量名）の出力"
      ]
    },
    {
      "cell_type": "code",
      "execution_count": null,
      "metadata": {
        "id": "kuo18Wdh2Xtj"
      },
      "outputs": [],
      "source": [
        "bc.feature_names"
      ]
    },
    {
      "cell_type": "markdown",
      "metadata": {
        "id": "2VbV2VPn2XfZ"
      },
      "source": [
        "コード3-3-10　bc.feature_namesの配列の形状とデータ型の確認\n"
      ]
    },
    {
      "cell_type": "code",
      "execution_count": null,
      "metadata": {
        "id": "vrmf_BgQ9Eg2"
      },
      "outputs": [],
      "source": [
        "print(bc.feature_names.shape)\n",
        "print(type(bc.feature_names))"
      ]
    },
    {
      "cell_type": "markdown",
      "metadata": {
        "id": "uJsZYKnS9bG2"
      },
      "source": [
        "コード3-3-11　変数bcのtarget_names（分類名）の出力"
      ]
    },
    {
      "cell_type": "code",
      "execution_count": null,
      "metadata": {
        "id": "yKqJ-Moi9eWa"
      },
      "outputs": [],
      "source": [
        "bc.target_names"
      ]
    },
    {
      "cell_type": "markdown",
      "metadata": {
        "id": "M-jWSVYs9l4u"
      },
      "source": [
        "コード3-3-12　bc.target_namesの配列の形状とデータ型の確認"
      ]
    },
    {
      "cell_type": "code",
      "execution_count": null,
      "metadata": {
        "id": "MkIysX3f9n2P"
      },
      "outputs": [],
      "source": [
        "print(bc.target_names.shape)\n",
        "print(type(bc.target_names))"
      ]
    },
    {
      "cell_type": "markdown",
      "metadata": {
        "id": "KccXtLiod4Io"
      },
      "source": [
        "# 3-4　ランダムフォレストを実践してみよう"
      ]
    },
    {
      "cell_type": "markdown",
      "metadata": {
        "id": "fMCUOX2PaA5K"
      },
      "source": [
        "**STEP0　事前準備**"
      ]
    },
    {
      "cell_type": "markdown",
      "metadata": {
        "id": "BUbJSCBzmPMq"
      },
      "source": [
        "コード3-4-1　利用するライブラリをインポートする"
      ]
    },
    {
      "cell_type": "code",
      "execution_count": null,
      "metadata": {
        "id": "cv6dW0QKf4TV"
      },
      "outputs": [],
      "source": [
        "#=# !pip install japanize-matplotlib\n",
        "import numpy as np\n",
        "import pandas as pd\n",
        "import matplotlib.pyplot as plt\n",
        "import japanize_matplotlib"
      ]
    },
    {
      "cell_type": "markdown",
      "metadata": {
        "id": "Z42YZgbxaOWW"
      },
      "source": [
        "**STEP1　データの用意**"
      ]
    },
    {
      "cell_type": "markdown",
      "metadata": {
        "id": "bouptbVvmTFF"
      },
      "source": [
        "コード3-4-2　乳がんのデータセットを読み込む"
      ]
    },
    {
      "cell_type": "code",
      "execution_count": null,
      "metadata": {
        "id": "Is9Z8NqCmgeH"
      },
      "outputs": [],
      "source": [
        "from sklearn.datasets import load_breast_cancer\n",
        "bc = load_breast_cancer(as_frame=True)"
      ]
    },
    {
      "cell_type": "markdown",
      "metadata": {
        "id": "7nJ6TDLKmaaG"
      },
      "source": [
        "コード3-4-3　特徴量xと正解値yを学習用データと検証用データに分割"
      ]
    },
    {
      "cell_type": "code",
      "execution_count": null,
      "metadata": {
        "id": "0pDJjMCOmtcV"
      },
      "outputs": [],
      "source": [
        "from sklearn.model_selection import train_test_split\n",
        "x_train, x_test, y_train, y_test = train_test_split(\n",
        "    bc.data, bc.target, test_size=0.3, random_state=0)"
      ]
    },
    {
      "cell_type": "markdown",
      "metadata": {
        "id": "LANSz9YJa5XP"
      },
      "source": [
        "**STEP2　学習モデルの選択**"
      ]
    },
    {
      "cell_type": "markdown",
      "metadata": {
        "id": "EjL5BtK9m9jO"
      },
      "source": [
        "コード3-4-4　ランダムフォレストを選択"
      ]
    },
    {
      "cell_type": "code",
      "execution_count": null,
      "metadata": {
        "id": "pMRJIIXCgirf"
      },
      "outputs": [],
      "source": [
        "from sklearn.ensemble import RandomForestClassifier\n",
        "model_forest = RandomForestClassifier(\n",
        "    n_estimators=100, max_depth=3,\n",
        "    max_features=5, random_state=0)"
      ]
    },
    {
      "cell_type": "markdown",
      "metadata": {
        "id": "0Geoaw97bEYL"
      },
      "source": [
        "**STEP3　データを入れて学習**"
      ]
    },
    {
      "cell_type": "markdown",
      "metadata": {
        "id": "s1DxIxVenCmu"
      },
      "source": [
        "コード3-4-5　学習用データを入れて学習させる"
      ]
    },
    {
      "cell_type": "code",
      "execution_count": null,
      "metadata": {
        "id": "GjcZoG0lmZOn"
      },
      "outputs": [],
      "source": [
        "model_forest.fit(x_train, y_train)"
      ]
    },
    {
      "cell_type": "markdown",
      "metadata": {
        "id": "jm1280aubyk3"
      },
      "source": [
        "**STEP4　予測を行う**"
      ]
    },
    {
      "cell_type": "markdown",
      "metadata": {
        "id": "0ZpNgPYGnJQe"
      },
      "source": [
        "コード3-4-6　検証用データで予測を行う"
      ]
    },
    {
      "cell_type": "code",
      "execution_count": null,
      "metadata": {
        "id": "bJZHPt76nLaX"
      },
      "outputs": [],
      "source": [
        "print(model_forest.predict(x_test)) # x_testから予測した予測値yを出力\n",
        "print(np.array(y_test))             # 実際の正解値y_testを出力"
      ]
    },
    {
      "cell_type": "markdown",
      "metadata": {
        "id": "fv5_BzzscHI8"
      },
      "source": [
        "**STEP5　モデルの評価**"
      ]
    },
    {
      "cell_type": "markdown",
      "metadata": {
        "id": "3pFsLCLfnPp4"
      },
      "source": [
        "コード3-4-7　モデルの性能評価を行う"
      ]
    },
    {
      "cell_type": "code",
      "execution_count": null,
      "metadata": {
        "id": "ugfzfWZ4g0UF"
      },
      "outputs": [],
      "source": [
        "print(model_forest.score(x_test, y_test))"
      ]
    },
    {
      "cell_type": "markdown",
      "metadata": {
        "id": "mgQSNsWwnoAO"
      },
      "source": [
        "コード3-4-8　特徴量の重要度の出力"
      ]
    },
    {
      "cell_type": "code",
      "execution_count": null,
      "metadata": {
        "id": "0eVYT0OnntTq"
      },
      "outputs": [],
      "source": [
        "forest_importances = pd.DataFrame(\n",
        "    model_forest.feature_importances_,\n",
        "    index=bc.feature_names,\n",
        "    columns=['重要度'])\n",
        "forest_importances"
      ]
    },
    {
      "cell_type": "markdown",
      "metadata": {
        "id": "EXArGUeUouj7"
      },
      "source": [
        "コード3-4-9　特徴量の重要度を並べ替える"
      ]
    },
    {
      "cell_type": "code",
      "execution_count": null,
      "metadata": {
        "id": "EA-xRVtiiA_4"
      },
      "outputs": [],
      "source": [
        "forest_importances.sort_values('重要度', ascending=False)"
      ]
    },
    {
      "cell_type": "markdown",
      "metadata": {
        "id": "vlVbXUhuiT72"
      },
      "source": [
        "コード3-4-10　特徴量の重要度のグラフ化"
      ]
    },
    {
      "cell_type": "code",
      "execution_count": null,
      "metadata": {
        "id": "V4l4jt0KiYR_"
      },
      "outputs": [],
      "source": [
        "forest_importances.plot.bar()\n",
        "plt.show()"
      ]
    },
    {
      "cell_type": "markdown",
      "metadata": {
        "id": "DPHGmjSPieQK"
      },
      "source": [
        "コード3-4-11　特徴量の重要度Permutation Feature Importance（PFI）の出力"
      ]
    },
    {
      "cell_type": "code",
      "execution_count": null,
      "metadata": {
        "id": "SGdxiEt6Uoxj"
      },
      "outputs": [],
      "source": [
        "from sklearn.inspection import permutation_importance\n",
        "importance = permutation_importance(\n",
        "    model_forest, x_test, y_test, n_repeats=10, random_state=0)\n",
        "print(importance.importances_mean)"
      ]
    },
    {
      "cell_type": "markdown",
      "metadata": {
        "id": "w0nE4KDhimqd"
      },
      "source": [
        "コード3-4-12　特徴量の重要度Permutation Feature Importance（PFI）のグラフ化"
      ]
    },
    {
      "cell_type": "code",
      "execution_count": null,
      "metadata": {
        "id": "9DBVqKBl33ja"
      },
      "outputs": [],
      "source": [
        "forest_pfi = pd.Series(\n",
        "    importance.importances_mean, index=bc.feature_names)\n",
        "forest_pfi.plot.bar()\n",
        "plt.axhline(y=0, color='black')\n",
        "plt.show()"
      ]
    }
  ],
  "metadata": {
    "colab": {
      "provenance": [],
      "toc_visible": true
    },
    "kernelspec": {
      "display_name": "Python 3",
      "name": "python3"
    },
    "language_info": {
      "codemirror_mode": {
        "name": "ipython",
        "version": 3
      },
      "file_extension": ".py",
      "mimetype": "text/x-python",
      "name": "python",
      "nbconvert_exporter": "python",
      "pygments_lexer": "ipython3",
      "version": "3.9.7"
    }
  },
  "nbformat": 4,
  "nbformat_minor": 0
}
