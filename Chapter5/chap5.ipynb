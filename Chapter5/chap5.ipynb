{
  "cells": [
    {
      "cell_type": "markdown",
      "metadata": {},
      "source": [
        "# Local environment version\n",
        "The parts specific to the Google Colab version are commented out with #=#.<br>\n",
        "The parts added in the local environment have #++ at the end of the line.<br>\n",
        "Newly added cells in the local environment should be placed under the Markdown cell beginning with #++ added new cell ++#.<br>\n",
        "I've added useful coding hints using Markdown blocks beginning with [HN], which means [Hints / Niigata-Univ H.Nishiyama version]<br>\n",
        "original: https://github.com/TMDU-AI/AI-yodosha<br>\n",
        "modified by H.Nishiyama, Niigata-Univ.<br>"
      ]
    },
    {
      "cell_type": "markdown",
      "metadata": {
        "id": "7i9c0QJBzL2S"
      },
      "source": [
        "# **5章　肺のX線画像を用いた画像分類にトライしよう**"
      ]
    },
    {
      "cell_type": "markdown",
      "metadata": {},
      "source": [
        "***[HN] 注意：サンプルデータを使って構築したシステムの性能はサンプルデータに依存するように学習されます。***<br>\n",
        "このため、外部から持ち込んだデータを分類しようとすると、誤った回答を出力する可能性が高いので、注意しましょう。<br>\n",
        "このような問題（バイアス）が発生する例を、過去の深層学習システム関連のニュースから検索し、レポートとして提出してください。<br>\n",
        "\n",
        "※ここで構築したシステムと内部パラメータを、診断目的のために利用することは、決してしないようにしましょう。【参照】薬機法<br>\n",
        "・プログラムの医療機器該当性に関するガイドラインについて（令和５年３月31日一部改正）［2.0MB］<br>\n",
        "https://www.mhlw.go.jp/content/11120000/001082227.pdf<br>\n",
        "のp.16（PDFでp.17）の「改訂後」（左側）<br>\n",
        "＝＝＝<br>\n",
        "脚注 12<br>\n",
        "「当該プログラムは、疾病の診断、治療又は予防に使用されること<br>\n",
        "を目的としていない」又は「当該プログラムは医療機器ではない」<br>\n",
        "旨の記載、表示があることをもって、当該プログラムが医療機器で<br>\n",
        "はないことの根拠とはならない。そのような記載があっても、疾病<br>\n",
        "の疑いを判断できるなどと医療機器との認識を与える広告・標ぼう<br>\n",
        "をする製品は医療機器に該当する。<br>\n",
        "＝＝＝"
      ]
    },
    {
      "cell_type": "markdown",
      "metadata": {
        "id": "Y53tS3XdzeMv"
      },
      "source": [
        "# 5-1　ローカル環境版：圧縮ファイルの解凍"
      ]
    },
    {
      "cell_type": "markdown",
      "metadata": {
        "id": "Ci2cidfB2HOl"
      },
      "source": [
        "コード5-0"
      ]
    },
    {
      "cell_type": "code",
      "execution_count": null,
      "metadata": {
        "id": "OEjS3hSCgJNE"
      },
      "outputs": [],
      "source": [
        "#=# from google.colab import drive\n",
        "#=# drive.mount('/content/drive')\n",
        "%pwd #++"
      ]
    },
    {
      "cell_type": "markdown",
      "metadata": {
        "id": "md8rGhCUyD98"
      },
      "source": [
        "コード5-1-1　images_TMDU.zipの解凍"
      ]
    },
    {
      "cell_type": "markdown",
      "metadata": {},
      "source": [
        "***[HN] Windwosのコマンドを実行するセルはコメントを排除した独立したセルでないと動作しないため、下記をコメントアウトし、***<br>\n",
        "***「#++ added new cell ++#」の部分に新たにセルを追加する形としています。***"
      ]
    },
    {
      "cell_type": "code",
      "execution_count": 2,
      "metadata": {
        "id": "bgKsy48ByLTT"
      },
      "outputs": [],
      "source": [
        "#=# !unzip '/content/drive/MyDrive/images_TMDU.zip'\n",
        "#=# %%unzip 'images_TMDU.zip'"
      ]
    },
    {
      "cell_type": "markdown",
      "metadata": {},
      "source": [
        "### #++ added new cell ++#"
      ]
    },
    {
      "cell_type": "code",
      "execution_count": null,
      "metadata": {},
      "outputs": [],
      "source": [
        "%%cmd\n",
        "chcp 65001\n",
        "call powershell -command \"Expand-Archive images_TMDU.zip -DestinationPath content -Force\""
      ]
    },
    {
      "cell_type": "markdown",
      "metadata": {
        "id": "odBVIVH70fMc"
      },
      "source": [
        "# 5-2　デジタル画像のデータは数値で表すことができる"
      ]
    },
    {
      "cell_type": "markdown",
      "metadata": {
        "id": "uL6uFz2v7pej"
      },
      "source": [
        "コード5-2-1　画像「test.jpg」の読み込みと図示"
      ]
    },
    {
      "cell_type": "code",
      "execution_count": null,
      "metadata": {
        "id": "8JcF9gfk7yTW"
      },
      "outputs": [],
      "source": [
        "import matplotlib.pyplot as plt\n",
        "from keras.preprocessing.image import load_img\n",
        "#=# test = load_img('/content/images/test.jpg', color_mode='rgb')\n",
        "test = load_img('content/images/test.jpg', color_mode='rgb') #++\n",
        "plt.imshow(test)\n",
        "plt.show()\n",
        "print(test)"
      ]
    },
    {
      "cell_type": "markdown",
      "metadata": {
        "id": "AJvlwVmAvKd5"
      },
      "source": [
        "コード5-2-2　画像サイズとカラーモードの変換"
      ]
    },
    {
      "cell_type": "code",
      "execution_count": null,
      "metadata": {
        "id": "YJ_Vg1r17yRB"
      },
      "outputs": [],
      "source": [
        "test2 = load_img(\n",
        "    #=# '/content/images/test.jpg', color_mode='grayscale',\n",
        "    'content/images/test.jpg', color_mode='grayscale', #++\n",
        "    target_size=(10, 10))\n",
        "plt.imshow(test2, 'gray')\n",
        "plt.show()\n",
        "print(test2)"
      ]
    },
    {
      "cell_type": "markdown",
      "metadata": {
        "id": "jemgJRbgviJd"
      },
      "source": [
        "コード5-2-3　画像データを配列データに変換"
      ]
    },
    {
      "cell_type": "code",
      "execution_count": null,
      "metadata": {
        "id": "q5f0N-6b7yOa"
      },
      "outputs": [],
      "source": [
        "from keras.preprocessing.image import img_to_array\n",
        "test2_img = img_to_array(test2)\n",
        "print(type(test2_img))\n",
        "print(test2_img)\n",
        "print(test2_img.shape)"
      ]
    },
    {
      "cell_type": "markdown",
      "metadata": {
        "id": "OZjfAZso0EWf"
      },
      "source": [
        "コード5-2-4　画像サイズ(10, 10)，カラーでの図示と配列変換"
      ]
    },
    {
      "cell_type": "code",
      "execution_count": null,
      "metadata": {
        "id": "t1VtNdE7QAR6"
      },
      "outputs": [],
      "source": [
        "test3 = load_img(\n",
        "    #=# '/content/images/test.jpg', color_mode='rgb', target_size=(10, 10))\n",
        "    'content/images/test.jpg', color_mode='rgb', target_size=(10, 10)) #++\n",
        "plt.imshow(test3)\n",
        "plt.show()\n",
        "test3_img = img_to_array(test3)\n",
        "print(test3_img)\n",
        "print(test3_img.shape)"
      ]
    },
    {
      "cell_type": "markdown",
      "metadata": {
        "id": "5yu5AbXK0gU2"
      },
      "source": [
        "コード5-2-5　インデックスによるデータへのアクセス"
      ]
    },
    {
      "cell_type": "code",
      "execution_count": null,
      "metadata": {
        "id": "aUjwTrd1QAQE"
      },
      "outputs": [],
      "source": [
        "# (10, 10, 3)は，10行あり，その各行は10列あり，その各列に3つの色要素が格納\n",
        "print(len(test3_img))       # 「test3_img」の値の長さ（要素数；行数）を表示\n",
        "print(test3_img[0])         # その0番行「test3_img[0]」の値を表示\n",
        "print(len(test3_img[0]))    # その0番行の値の長さ（要素数；列数）を表示\n",
        "print(test3_img[0][0])      # その0番行，0番列「test3_img[0][0]」の値を表示\n",
        "print(len(test3_img[0][0])) # その値の長さ（要素数）を表示\n",
        "print(test3_img[0][0][0])   # その0番行，0番列，0番要素（Red）の値を表示"
      ]
    },
    {
      "cell_type": "markdown",
      "metadata": {
        "id": "gEtVoM8i0rI_"
      },
      "source": [
        "# 5-3　肺のX線画像の分類モデルを作成してみよう"
      ]
    },
    {
      "cell_type": "markdown",
      "metadata": {
        "id": "_N68uEOq0xWT"
      },
      "source": [
        "**STEP1　肺のX線画像ファイルのリスト作成**"
      ]
    },
    {
      "cell_type": "markdown",
      "metadata": {
        "id": "dEn-NtxVASNB"
      },
      "source": [
        "コード5-3-1　ファイル名のリストを作成"
      ]
    },
    {
      "cell_type": "code",
      "execution_count": null,
      "metadata": {
        "id": "vPGSBE0Nbh00"
      },
      "outputs": [],
      "source": [
        "import os\n",
        "list_healthy = [\n",
        "    #=# i for i in os.listdir('/content/images/COVID-NORMAL/healthy')\n",
        "    i for i in os.listdir('content/images/COVID-NORMAL/healthy') #++\n",
        "    if not i.startswith('.')]\n",
        "list_covid19 = [\n",
        "    #=# i for i in os.listdir('/content/images/COVID-NORMAL/covid19')\n",
        "    i for i in os.listdir('content/images/COVID-NORMAL/covid19') #++\n",
        "    if not i.startswith('.')]\n",
        "print(len(list_healthy))\n",
        "print(len(list_covid19))"
      ]
    },
    {
      "cell_type": "markdown",
      "metadata": {
        "id": "bDlpae_yCGh0"
      },
      "source": [
        "コード5-3-2　リスト内包表記の例１"
      ]
    },
    {
      "cell_type": "code",
      "execution_count": null,
      "metadata": {
        "id": "lXZ1yl63CKCa"
      },
      "outputs": [],
      "source": [
        "example1 = [i for i in range(5)]\n",
        "print(example1)\n",
        "temp = [1, 3, 5, 7, 9]\n",
        "example2 = [i*2 for i in temp]\n",
        "print(example2)"
      ]
    },
    {
      "cell_type": "markdown",
      "metadata": {
        "id": "c8GDZF5QMI7i"
      },
      "source": [
        "コード5-3-3　リスト内包表記の例２"
      ]
    },
    {
      "cell_type": "code",
      "execution_count": null,
      "metadata": {
        "id": "hfUH6uKEMOA9"
      },
      "outputs": [],
      "source": [
        "temp = [1, 3, 5, 7, 9]\n",
        "example3 = [i*2 for i in temp if i > 4]\n",
        "print(example3)\n",
        "example4 = [i*2 for i in temp if not i > 5]\n",
        "print(example4)"
      ]
    },
    {
      "cell_type": "markdown",
      "metadata": {
        "id": "sHHc5noPMR4Q"
      },
      "source": [
        "コード5-3-4　リスト内包表記の例３"
      ]
    },
    {
      "cell_type": "code",
      "execution_count": null,
      "metadata": {
        "id": "_O6Mfk5zMUdz"
      },
      "outputs": [],
      "source": [
        "temp2 = ['須藤', '佐藤', '加藤', '佐川']\n",
        "example5 = [name for name in temp2 if name.startswith('佐')]\n",
        "print(example5)\n",
        "example6 = [name for name in temp2 if not name.endswith('藤')]\n",
        "print(example6)"
      ]
    },
    {
      "cell_type": "markdown",
      "metadata": {
        "id": "VrvTC6J9TdBD"
      },
      "source": [
        "コード5-3-5　os.listdir()の確認１"
      ]
    },
    {
      "cell_type": "code",
      "execution_count": null,
      "metadata": {
        "id": "Oxnh_r3VTgce"
      },
      "outputs": [],
      "source": [
        "import os\n",
        "#=# os.listdir('/content/images/COVID-NORMAL')\n",
        "os.listdir('content/images/COVID-NORMAL') #++"
      ]
    },
    {
      "cell_type": "markdown",
      "metadata": {
        "id": "yZH71rn3Zfjh"
      },
      "source": [
        "コード5-3-6　os.listdir()の確認２"
      ]
    },
    {
      "cell_type": "code",
      "execution_count": null,
      "metadata": {
        "id": "GkD7nOXKUTE8"
      },
      "outputs": [],
      "source": [
        "#=# os.listdir('/content/images/COVID-NORMAL/healthy')\n",
        "os.listdir('content/images/COVID-NORMAL/healthy') #++"
      ]
    },
    {
      "cell_type": "markdown",
      "metadata": {
        "id": "NQmSLtNu052s"
      },
      "source": [
        "**STEP2　画像ファイル数の集計と変数の作成**"
      ]
    },
    {
      "cell_type": "markdown",
      "metadata": {
        "id": "TvoevgccZrRt"
      },
      "source": [
        "コード5-3-7　画像ファイル数の集計"
      ]
    },
    {
      "cell_type": "code",
      "execution_count": null,
      "metadata": {
        "id": "qP_ancOpbhwv"
      },
      "outputs": [],
      "source": [
        "num_healthy = len(list_healthy)\n",
        "num_covid19 = len(list_covid19)\n",
        "num_all = num_healthy + num_covid19\n",
        "print(num_all)"
      ]
    },
    {
      "cell_type": "markdown",
      "metadata": {
        "id": "tmKbQ9zka5tr"
      },
      "source": [
        "コード5-3-8　画像データ格納用NumPy配列の作成"
      ]
    },
    {
      "cell_type": "code",
      "execution_count": null,
      "metadata": {
        "id": "JQMe9COdbhu5"
      },
      "outputs": [],
      "source": [
        "import numpy as np\n",
        "images_temp = np.zeros((num_all, 64, 64, 1), dtype=float)\n",
        "labels_temp = np.zeros((num_all, 1), dtype=int)\n",
        "print(images_temp.shape)\n",
        "print(labels_temp.shape)"
      ]
    },
    {
      "cell_type": "markdown",
      "metadata": {
        "id": "70lnQjM28EQz"
      },
      "source": [
        "コード5-3-9　画像データ格納用NumPy配列の値の確認"
      ]
    },
    {
      "cell_type": "code",
      "execution_count": null,
      "metadata": {
        "id": "GGLTK9mNbhss"
      },
      "outputs": [],
      "source": [
        "print(labels_temp)\n",
        "print(images_temp[0])"
      ]
    },
    {
      "cell_type": "markdown",
      "metadata": {
        "id": "6MVsusz51ANG"
      },
      "source": [
        "**STEP3　健康な肺のX線画像の読み込み**"
      ]
    },
    {
      "cell_type": "markdown",
      "metadata": {
        "id": "SkuD99Lw16UH"
      },
      "source": [
        "コード5-3-10　画像の読み込み（list_healthy）\n",
        "\n"
      ]
    },
    {
      "cell_type": "code",
      "execution_count": 21,
      "metadata": {
        "id": "JhXFSAR7QAOA"
      },
      "outputs": [],
      "source": [
        "#=# path_healthy = '/content/images/COVID-NORMAL/healthy'\n",
        "path_healthy = 'content/images/COVID-NORMAL/healthy' #++\n",
        "for i in range(num_healthy):\n",
        "  file = f'{path_healthy}/{list_healthy[i]}'\n",
        "  file_img = load_img(\n",
        "      file, color_mode='grayscale', target_size=(64, 64),\n",
        "      interpolation='lanczos')\n",
        "  images_temp[i] = img_to_array(file_img) / 255\n",
        "  labels_temp[i] = 0"
      ]
    },
    {
      "cell_type": "markdown",
      "metadata": {
        "id": "u0fd9zSuEGWU"
      },
      "source": [
        "コード5-3-11　「f'{変数名}'」の例"
      ]
    },
    {
      "cell_type": "code",
      "execution_count": null,
      "metadata": {
        "id": "58Vt3KBKEJU2"
      },
      "outputs": [],
      "source": [
        "name = '須藤'\n",
        "print('name')\n",
        "print(f'{name}')\n",
        "print('私の名前はnameです')\n",
        "print(f'私の名前は{name}です')"
      ]
    },
    {
      "cell_type": "markdown",
      "metadata": {
        "id": "gV0bmTKO2Syt"
      },
      "source": [
        "コード5-3-12　images_tempの変換後の値"
      ]
    },
    {
      "cell_type": "code",
      "execution_count": null,
      "metadata": {
        "id": "lzhGOhmL2U4D"
      },
      "outputs": [],
      "source": [
        "images_temp[0]"
      ]
    },
    {
      "cell_type": "markdown",
      "metadata": {
        "id": "bPdHllEM1G_M"
      },
      "source": [
        "**STEP4　肺炎のX線画像の読み込み**"
      ]
    },
    {
      "cell_type": "markdown",
      "metadata": {
        "id": "vO0Y1HtIMofz"
      },
      "source": [
        "コード5-3-13　画像の読み込み（list_covid19）"
      ]
    },
    {
      "cell_type": "code",
      "execution_count": 24,
      "metadata": {
        "id": "gOBe9DM79L37"
      },
      "outputs": [],
      "source": [
        "#=# path_covid19 = '/content/images/COVID-NORMAL/covid19'\n",
        "path_covid19 = 'content/images/COVID-NORMAL/covid19' #++\n",
        "for i in range(num_covid19):\n",
        "  file = f'{path_covid19}/{list_covid19[i]}'\n",
        "  file_img = load_img(\n",
        "      file, color_mode='grayscale', target_size=(64, 64),\n",
        "      interpolation='lanczos')\n",
        "  images_temp[i + num_healthy] = img_to_array(file_img) / 255\n",
        "  labels_temp[i + num_healthy] = 1"
      ]
    },
    {
      "cell_type": "markdown",
      "metadata": {
        "id": "CVAVF7DRXmsN"
      },
      "source": [
        "コード5-3-14　images_tempとlabels_tempの変換後の値"
      ]
    },
    {
      "cell_type": "code",
      "execution_count": null,
      "metadata": {
        "id": "yHLsIycWXvqA"
      },
      "outputs": [],
      "source": [
        "print(images_temp[116])\n",
        "print(labels_temp[116])"
      ]
    },
    {
      "cell_type": "markdown",
      "metadata": {
        "id": "rPCAOeFf1NI7"
      },
      "source": [
        "**STEP5　X線画像のシャッフル**"
      ]
    },
    {
      "cell_type": "markdown",
      "metadata": {
        "id": "NIOZgyyzYDHR"
      },
      "source": [
        "コード5-3-15　0から231までの数字の配列を作成"
      ]
    },
    {
      "cell_type": "code",
      "execution_count": null,
      "metadata": {
        "id": "94HkrVXdQAL8"
      },
      "outputs": [],
      "source": [
        "num_list = np.arange(num_all)\n",
        "print(num_list)"
      ]
    },
    {
      "cell_type": "markdown",
      "metadata": {
        "id": "k11swhMWAgRp"
      },
      "source": [
        "コード5-3-16　NumPy配列をシャッフルする"
      ]
    },
    {
      "cell_type": "code",
      "execution_count": null,
      "metadata": {
        "id": "O1603YnFQAJ5"
      },
      "outputs": [],
      "source": [
        "np.random.seed(111)\n",
        "np.random.shuffle(num_list)\n",
        "print(num_list)"
      ]
    },
    {
      "cell_type": "markdown",
      "metadata": {
        "id": "xT37o95qAi2p"
      },
      "source": [
        "コード5-3-17　images_tempとlabels_tempの配列をシャッフルする"
      ]
    },
    {
      "cell_type": "code",
      "execution_count": null,
      "metadata": {
        "id": "wnKqOT5RQAH8"
      },
      "outputs": [],
      "source": [
        "print(labels_temp[0:10])\n",
        "x_train = images_temp[num_list]\n",
        "y_train = labels_temp[num_list]\n",
        "print(y_train[0:10])\n",
        "print(x_train.shape)\n",
        "print(y_train.shape)"
      ]
    },
    {
      "cell_type": "markdown",
      "metadata": {
        "id": "koIpqUHABoLF"
      },
      "source": [
        "コード5-3-18　NumPy配列の要素を並べ替える"
      ]
    },
    {
      "cell_type": "code",
      "execution_count": null,
      "metadata": {
        "id": "5Yfh9AKHBoZA"
      },
      "outputs": [],
      "source": [
        "array1 = np.array([10, 20, 30, 40, 50])\n",
        "print(array1)\n",
        "order = [3, 2, 0, 4, 1]\n",
        "array2 = array1[order]\n",
        "print(array2)"
      ]
    },
    {
      "cell_type": "markdown",
      "metadata": {
        "id": "FIKnLs6i1Tr-"
      },
      "source": [
        "**STEP6　深層学習モデルの作成**"
      ]
    },
    {
      "cell_type": "markdown",
      "metadata": {
        "id": "-3RaDhwyHGip"
      },
      "source": [
        "コード5-3-19　深層学習モデルの作成"
      ]
    },
    {
      "cell_type": "code",
      "execution_count": null,
      "metadata": {
        "id": "hWpsBwoNHG9E"
      },
      "outputs": [],
      "source": [
        "from keras.models import Sequential\n",
        "from keras.layers import Dense, Flatten\n",
        "\n",
        "model = Sequential()\n",
        "model.add(Flatten(input_shape=(64, 64, 1))) # 配列を1次元に変換\n",
        "model.add(Dense(512, activation='relu'))  # 中間層1層目を作成\n",
        "model.add(Dense(256, activation='relu'))  # 中間層2層目を作成\n",
        "model.add(Dense(128, activation='relu'))  # 中間層3層目を作成\n",
        "model.add(Dense(1, activation='sigmoid')) # 出力層を作成\n",
        "model.compile(\n",
        "    loss='binary_crossentropy', optimizer='Adam',\n",
        "    metrics=['accuracy']) # 学習方法の設定\n",
        "model.summary()"
      ]
    },
    {
      "cell_type": "markdown",
      "metadata": {
        "id": "J4CJUJ6MVUl_"
      },
      "source": [
        "コード5-3-20　学習の実施"
      ]
    },
    {
      "cell_type": "code",
      "execution_count": null,
      "metadata": {
        "id": "qaHnW5fWHL8I"
      },
      "outputs": [],
      "source": [
        "result = model.fit(\n",
        "    x_train, y_train, batch_size=32, epochs=100, validation_split=0.2)"
      ]
    },
    {
      "cell_type": "markdown",
      "metadata": {
        "id": "HOxi3U3mZuHM"
      },
      "source": [
        "コード5-3-21　学習過程の図示"
      ]
    },
    {
      "cell_type": "code",
      "execution_count": null,
      "metadata": {
        "id": "G5yNg3RKHdm_"
      },
      "outputs": [],
      "source": [
        "import matplotlib.pyplot as plt\n",
        "plt.plot(result.history['accuracy'], label='accuracy')\n",
        "plt.plot(result.history['val_accuracy'], label='val_accuracy')\n",
        "plt.legend()\n",
        "plt.show()\n",
        "plt.plot(result.history['loss'], label='loss')\n",
        "plt.plot(result.history['val_loss'], label='val_loss')\n",
        "plt.legend()\n",
        "plt.show()"
      ]
    },
    {
      "cell_type": "markdown",
      "metadata": {
        "id": "UjWtHvc7fMPT"
      },
      "source": [
        "コード5-3-22　Dropoutを加えて過学習を防ぐ"
      ]
    },
    {
      "cell_type": "code",
      "execution_count": null,
      "metadata": {
        "id": "rwCRIJFgmovL"
      },
      "outputs": [],
      "source": [
        "from keras.models import Sequential\n",
        "from keras.layers import Dense, Flatten, Dropout # Dropout関数を追加\n",
        "\n",
        "model = Sequential()\n",
        "model.add(Flatten(input_shape=(64, 64, 1)))\n",
        "model.add(Dense(512, activation='relu'))\n",
        "model.add(Dropout(0.5)) # Dropoutの層を追加\n",
        "model.add(Dense(256, activation='relu'))\n",
        "model.add(Dropout(0.5)) # Dropoutの層を追加\n",
        "model.add(Dense(128, activation='relu'))\n",
        "model.add(Dense(1, activation='sigmoid'))\n",
        "model.compile(\n",
        "    loss='binary_crossentropy', optimizer='Adam', metrics=['accuracy'])\n",
        "model.summary()\n",
        "result = model.fit(\n",
        "    x_train, y_train, batch_size=32, epochs=100, validation_split=0.2)"
      ]
    },
    {
      "cell_type": "markdown",
      "metadata": {
        "id": "sPlQk8dDBLjp"
      },
      "source": [
        "コード5-3-23　Dropoutを加えた学習過程の図示"
      ]
    },
    {
      "cell_type": "code",
      "execution_count": null,
      "metadata": {
        "id": "Mf3A8Z417yDw"
      },
      "outputs": [],
      "source": [
        "import matplotlib.pyplot as plt\n",
        "plt.plot(result.history['accuracy'], label='accuracy')\n",
        "plt.plot(result.history['val_accuracy'], label='val_accuracy')\n",
        "plt.legend()\n",
        "plt.show()\n",
        "plt.plot(result.history['loss'], label='loss')\n",
        "plt.plot(result.history['val_loss'], label='val_loss')\n",
        "plt.legend()\n",
        "plt.show()"
      ]
    },
    {
      "cell_type": "markdown",
      "metadata": {
        "id": "nr2M3rls1aBK"
      },
      "source": [
        "# 5-4　未知のデータが肺炎かどうかを予測"
      ]
    },
    {
      "cell_type": "markdown",
      "metadata": {
        "id": "B_h2KR78DQlM"
      },
      "source": [
        "コード5-4-1　新たな画像での分類"
      ]
    },
    {
      "cell_type": "code",
      "execution_count": null,
      "metadata": {
        "id": "XPVcTaAbiHl-"
      },
      "outputs": [],
      "source": [
        "img1 = img_to_array(load_img(\n",
        "    #=# '/content/images/covid.jpg',\n",
        "    'content/images/covid.jpg', #++\n",
        "    color_mode='grayscale', target_size=(64, 64))) / 255\n",
        "img2 = img_to_array(load_img(\n",
        "    #=# '/content/images/NORMAL.jpg',\n",
        "    'content/images/NORMAL.jpg', #++\n",
        "    color_mode='grayscale', target_size=(64, 64))) / 255\n",
        "check = np.zeros((2, 64, 64, 1))\n",
        "check[0] = img1\n",
        "check[1] = img2\n",
        "prob = model.predict(check)\n",
        "print(prob)"
      ]
    },
    {
      "cell_type": "code",
      "execution_count": null,
      "metadata": {},
      "outputs": [],
      "source": []
    }
  ],
  "metadata": {
    "colab": {
      "provenance": [],
      "toc_visible": true
    },
    "kernelspec": {
      "display_name": "Python 3",
      "name": "python3"
    },
    "language_info": {
      "codemirror_mode": {
        "name": "ipython",
        "version": 3
      },
      "file_extension": ".py",
      "mimetype": "text/x-python",
      "name": "python",
      "nbconvert_exporter": "python",
      "pygments_lexer": "ipython3",
      "version": "3.11.9"
    }
  },
  "nbformat": 4,
  "nbformat_minor": 0
}
